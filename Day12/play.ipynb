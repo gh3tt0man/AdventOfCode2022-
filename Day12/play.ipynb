{
 "cells": [
  {
   "attachments": {},
   "cell_type": "markdown",
   "metadata": {},
   "source": [
    "Start at the start node"
   ]
  },
  {
   "attachments": {},
   "cell_type": "markdown",
   "metadata": {},
   "source": [
    "Find it's neighbours"
   ]
  },
  {
   "attachments": {},
   "cell_type": "markdown",
   "metadata": {},
   "source": [
    "For each neighbour -> Update distance to A\n",
    "Mark current node as visited"
   ]
  },
  {
   "attachments": {},
   "cell_type": "markdown",
   "metadata": {},
   "source": [
    "Select from the UNVISITED list , the shortest DIST A node and visit it"
   ]
  },
  {
   "cell_type": "code",
   "execution_count": 42,
   "metadata": {},
   "outputs": [
    {
     "name": "stdout",
     "output_type": "stream",
     "text": [
      "OrderedDict([('0,0', [3, 0]), ('0,1', [99, 0])])\n",
      "0,0\n"
     ]
    },
    {
     "data": {
      "text/plain": [
       "1"
      ]
     },
     "execution_count": 42,
     "metadata": {},
     "output_type": "execute_result"
    }
   ],
   "source": [
    "from collections import OrderedDict\n",
    "MEMBERS= {'0,0':[3,0],'0,1':[2,0],'0,2':[1,10]}\n",
    "b= OrderedDict(MEMBERS)\n",
    "#1st we need to filter out visited\n",
    "b = OrderedDict((k,v) for k,v in b.items() if v[1] <1 )\n",
    "#Then we sort 'b' ASC by 1st element of the list and get the first item\n",
    "b['0,1'][0]=99\n",
    "print(b)\n",
    "c =next(iter(OrderedDict(sorted(b.items(),key=lambda x: x[1][0]))))\n",
    "print(c)\n",
    "\n",
    "j = (1,2)\n",
    "j[0]\n"
   ]
  }
 ],
 "metadata": {
  "kernelspec": {
   "display_name": "Python 3",
   "language": "python",
   "name": "python3"
  },
  "language_info": {
   "codemirror_mode": {
    "name": "ipython",
    "version": 3
   },
   "file_extension": ".py",
   "mimetype": "text/x-python",
   "name": "python",
   "nbconvert_exporter": "python",
   "pygments_lexer": "ipython3",
   "version": "3.11.2"
  },
  "orig_nbformat": 4
 },
 "nbformat": 4,
 "nbformat_minor": 2
}
